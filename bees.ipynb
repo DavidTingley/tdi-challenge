{
 "cells": [
  {
   "cell_type": "code",
   "execution_count": 1,
   "id": "187acba1-d947-4abd-a36d-6e1d480968fa",
   "metadata": {},
   "outputs": [],
   "source": [
    "# a script to address the questions in section 3"
   ]
  },
  {
   "cell_type": "code",
   "execution_count": 2,
   "id": "f152934c-ec5c-4133-825d-f9e84fde80ce",
   "metadata": {},
   "outputs": [
    {
     "name": "stderr",
     "output_type": "stream",
     "text": [
      "/home/david/anaconda3/envs/explore/lib/python3.9/site-packages/ray/autoscaler/_private/cli_logger.py:57: FutureWarning: Not all Ray CLI dependencies were found. In Ray 1.4+, the Ray CLI, autoscaler, and dashboard will only be usable via `pip install 'ray[default]'`. Please update your install command.\n",
      "  warnings.warn(\n",
      "2021-07-04 12:29:19,669\tINFO services.py:1272 -- View the Ray dashboard at \u001b[1m\u001b[32mhttp://127.0.0.1:8265\u001b[39m\u001b[22m\n"
     ]
    }
   ],
   "source": [
    "import numpy as np\n",
    "# late on a Friday and my random walk/probability theory is rusty, so let's do this empirically\n",
    "\n",
    "def bee(steps,dim):\n",
    "    pos = [0,0]\n",
    "    opts = np.linspace(np.pi/3,2*np.pi,dim) # discretized space of choices\n",
    "    for s in range(steps):\n",
    "        choice = np.random.choice(opts) #np.random.random(1)*2*np.pi#\n",
    "        pos[0] += np.cos(choice)\n",
    "        pos[1] += np.sin(choice)\n",
    "    distance = np.sqrt(pos[0]**2 + pos[1]**2)\n",
    "    return distance\n",
    "\n",
    "# lets speed things up\n",
    "import ray\n",
    "ray.init(ignore_reinit_error=True)\n",
    "\n",
    "@ray.remote\n",
    "def speedy(n,steps,dim):\n",
    "    dist = bee(steps,dim)\n",
    "    return dist"
   ]
  },
  {
   "cell_type": "code",
   "execution_count": 3,
   "id": "48ad7c0f-e4c5-498f-8937-4a3e05c2255c",
   "metadata": {},
   "outputs": [],
   "source": [
    "# found with some googling...\n",
    "# steps = 13\n",
    "# d = 6\n",
    "# from scipy.special import gamma\n",
    "# import numpy as np\n",
    "\n",
    "# np.sqrt((2*steps)/d) * (gamma((d+1)/2) / gamma(d/2)) # ...hmm"
   ]
  },
  {
   "cell_type": "code",
   "execution_count": 4,
   "id": "1d18aaf5-6dbd-4043-b07c-94e6a4e6cb07",
   "metadata": {},
   "outputs": [
    {
     "name": "stdout",
     "output_type": "stream",
     "text": [
      "3.206430107197851 1.6480762323555116\n"
     ]
    }
   ],
   "source": [
    "# answers 1 & 2\n",
    "N = 10000000\n",
    "output_ids = []\n",
    "for n in range(N):\n",
    "    output_ids.append(speedy.remote(n,steps=13,dim=6))\n",
    "\n",
    "# Get results when ready.\n",
    "output_list = ray.get(output_ids)\n",
    "# Move results into an NxN numpy array.\n",
    "outputs = np.array(output_list).reshape(N, 1)\n",
    "print(np.mean(outputs),np.std(outputs))\n"
   ]
  },
  {
   "cell_type": "code",
   "execution_count": 5,
   "id": "654a9afb-0df6-41f6-b54a-699df5a2297c",
   "metadata": {},
   "outputs": [
    {
     "name": "stdout",
     "output_type": "stream",
     "text": [
      "5.235829758960987\n"
     ]
    }
   ],
   "source": [
    "# answer 5    \n",
    "print(np.mean(outputs[outputs>=4]))"
   ]
  },
  {
   "cell_type": "code",
   "execution_count": 6,
   "id": "3107225e-b8c9-4576-ba0b-4a3c43aad81d",
   "metadata": {},
   "outputs": [
    {
     "name": "stdout",
     "output_type": "stream",
     "text": [
      "6.871854629848398 3.577318108056813\n"
     ]
    }
   ],
   "source": [
    "# answers 3 & 4\n",
    "output_ids = []\n",
    "for n in range(N):\n",
    "    output_ids.append(speedy.remote(n,steps=60,dim=6))\n",
    "\n",
    "# Get results when ready.\n",
    "output_list = ray.get(output_ids)\n",
    "# Move results into an NxN numpy array.\n",
    "outputs = np.array(output_list).reshape(N, 1)\n",
    "print(np.mean(outputs),np.std(outputs))\n"
   ]
  },
  {
   "cell_type": "code",
   "execution_count": 7,
   "id": "576fda08-1d01-4c8a-94ab-5e2288f2aee0",
   "metadata": {},
   "outputs": [
    {
     "name": "stdout",
     "output_type": "stream",
     "text": [
      "0.04907853887310919\n"
     ]
    }
   ],
   "source": [
    "# answer 5\n",
    "print(np.mean(outputs[outputs>=15]>=20))"
   ]
  },
  {
   "cell_type": "code",
   "execution_count": null,
   "id": "c997d6d4-5c4a-4105-b699-d6c6196b5395",
   "metadata": {},
   "outputs": [],
   "source": []
  },
  {
   "cell_type": "code",
   "execution_count": null,
   "id": "270098b7-1539-4bf4-859a-9f87fa969093",
   "metadata": {},
   "outputs": [],
   "source": []
  },
  {
   "cell_type": "code",
   "execution_count": null,
   "id": "d58e804c-968e-4a1e-893b-ed533a0bd0ea",
   "metadata": {},
   "outputs": [],
   "source": []
  }
 ],
 "metadata": {
  "kernelspec": {
   "display_name": "Python 3",
   "language": "python",
   "name": "python3"
  },
  "language_info": {
   "codemirror_mode": {
    "name": "ipython",
    "version": 3
   },
   "file_extension": ".py",
   "mimetype": "text/x-python",
   "name": "python",
   "nbconvert_exporter": "python",
   "pygments_lexer": "ipython3",
   "version": "3.9.5"
  }
 },
 "nbformat": 4,
 "nbformat_minor": 5
}
